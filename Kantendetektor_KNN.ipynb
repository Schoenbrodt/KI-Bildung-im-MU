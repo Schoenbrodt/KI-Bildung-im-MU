{
 "cells": [
  {
   "cell_type": "markdown",
   "id": "68a8832a-3172-4a42-82b8-5d22802fc660",
   "metadata": {},
   "source": [
    "# Das Training eines einfachen neuronalen Netzes\n",
    "\n",
    "Das Training von neuronalen Netzen beruht im Wesentlichen auf dem Lösen eines Optimierungsproblems. Dabei sollen die Gewichte bzw. Parameter des Netzes so gewählten werden, dass der Fehler bzgl. der Trainingsdaten minimal wird. \n",
    "\n",
    "In diesem Notebook wird zunächst ein einzelnes Neuron implementiert. Dieses wird anschließend zu einem Netz erweitert. "
   ]
  },
  {
   "cell_type": "code",
   "execution_count": null,
   "id": "54ea4457-0fbe-4383-baa9-7b4f9a8d98b1",
   "metadata": {},
   "outputs": [],
   "source": [
    "# Pakete laden\n",
    "import math\n",
    "import numpy as np\n",
    "from scipy.optimize import minimize\n",
    "from scipy.special import expit"
   ]
  },
  {
   "cell_type": "markdown",
   "id": "fde551cd-337e-437c-b0b7-a1f9afab808e",
   "metadata": {},
   "source": [
    "## Das Neuron\n",
    "\n",
    "Ein Neuron gewichtet einen Eingabevektor $\\mathbb{R}^n$ mit einem Gewichtsvektor aus $\\mathbb{R}^{(n+1)}$. Die letzte Komponente ist eine additive Konstante, der sogenannte Bias. Anschließend wird die Sigmoid-Funktion komponentenweise angewendet. Die Funktion `neuron` illustriert dies. Sie wird in der Form jedoch bei der Implementierung eines ganzen Netzes nicht mehr gebraucht."
   ]
  },
  {
   "cell_type": "code",
   "execution_count": 16,
   "id": "70466776-6e1b-488c-ad06-4b442ce4dc9b",
   "metadata": {},
   "outputs": [
    {
     "data": {
      "text/plain": [
       "0.999983298578152"
      ]
     },
     "execution_count": 16,
     "metadata": {},
     "output_type": "execute_result"
    }
   ],
   "source": [
    "from scipy.special import expit\n",
    "def sigmoid(x): return expit(x) # same as 1 / (1 + math.exp(-x)) but more stable for big numbers\n",
    "def sigmoidVect(x): return np.array([sigmoid(xi) for xi in x])\n",
    "def neuron(w, b,x):\n",
    "    z = w[-1]+sum([w[i] * x[i] for i in range(len(x))])\n",
    "    return sigmoid(z)\n",
    "neuron([3,2],-2,[1,3])"
   ]
  },
  {
   "cell_type": "markdown",
   "id": "301ff8f4-da7a-42e4-afda-add8eff56094",
   "metadata": {},
   "source": [
    "Um zu beurteilen, wie nah/ähnlich zwei Vektoren einander sind, wird der quadrierte euklidische Abstand benötigt:"
   ]
  },
  {
   "cell_type": "code",
   "execution_count": 6,
   "id": "39f50a7a-9c03-4ef3-94bc-1ef9f624dd20",
   "metadata": {},
   "outputs": [],
   "source": [
    "def distance(x,y): # Quadrat des Abstands zwischen zwei Vektoren\n",
    "    return sum([(x[i]-y[i])**2 for i in range(len(x))])"
   ]
  },
  {
   "cell_type": "markdown",
   "id": "984e6489",
   "metadata": {},
   "source": [
    "## Neuronales Netz\n",
    "\n",
    "Als Nächstes soll ein kleines neuronales Netz programmiert werden. Das folgende definiert zwei Gewichtsmatrizen und zwei Vektoren. All diese Parameter des Netzes werden im Lernprozess später bestimmt. Außerdem werden Funktion definiert, mit denen man solche Matrizen in einen einzigen großen Vektor umwandelt und umgekehrt. Das ist nötig, weil die verwendete Optimierungsroutine nur einen Vektor als Eingabe erwartet.\n",
    "Alle Vektoren und Matrizen werden nicht als Listen behandelt, sondern als Objekte vom Datentyp np.array. Das hat den Vorteil, dass man den Operator @ für die Multiplikation einer Matrix mit einem Vektor verwenden kann."
   ]
  },
  {
   "cell_type": "code",
   "execution_count": 7,
   "id": "9dd0f121-580d-41c9-9f9a-039e575f33d1",
   "metadata": {},
   "outputs": [
    {
     "data": {
      "text/plain": [
       "[array([[ True,  True,  True,  True],\n",
       "        [ True,  True,  True,  True],\n",
       "        [ True,  True,  True,  True]]),\n",
       " array([[ True,  True,  True],\n",
       "        [ True,  True,  True]]),\n",
       " array([ True,  True,  True]),\n",
       " array([ True,  True])]"
      ]
     },
     "execution_count": 7,
     "metadata": {},
     "output_type": "execute_result"
    }
   ],
   "source": [
    "W1=np.zeros((3, 4)) # Erzeugung von je zwei Matrizen und Vektoren, zunächst mit Nullen gefüllt\n",
    "W2=np.zeros((2, 3))\n",
    "B1=np.zeros((3))\n",
    "B2=np.zeros((2))\n",
    "def M2V(W1,W2,B1,B2): # verwandelt die Vektoren und Matrizen in einen einzigen großen Vektor\n",
    "    return np.hstack((W1.flatten(), W2.flatten(), B1.flatten(), B2.flatten()))\n",
    "def V2M(x): # Umkehroperation zu M2V\n",
    "    lenW1=np.prod(np.shape(W1))\n",
    "    lenW2=np.prod(np.shape(W2))\n",
    "    lenB1=np.prod(np.shape(B1))\n",
    "    lenB2=np.prod(np.shape(B2))\n",
    "    w1 = x[:lenW1].reshape(np.shape(W1))\n",
    "    w2 = x[lenW1:lenW1+lenW2].reshape(np.shape(W2))\n",
    "    b1 = x[lenW1+lenW2:lenW1+lenW2+lenB1].reshape(np.shape(B1))\n",
    "    b2 = x[lenW1+lenW2+lenB1:].reshape(np.shape(B2))\n",
    "    return [w1,w2,b1,b2]\n",
    "x0 = M2V(W1, W2, B1, B2) # Die Matrizen als ein großer Vektor\n",
    "[V2M(x0)[0]==W1, V2M(x0)[1]==W2, V2M(x0)[2]==B1, V2M(x0)[3]==B2] # Rückkonvertierung liefert wieder die Matrizen"
   ]
  },
  {
   "cell_type": "markdown",
   "id": "4f451e59",
   "metadata": {},
   "source": [
    "Das kleine Beispiel-Netz besteht aus zwei Lagen von Neuronen, die nacheinader angewendet werden. Das Netz ist eine Funktion $R^4 \\rightarrow R^2$. Die Parameter des Netzes werden als optionale Variablen angegeben."
   ]
  },
  {
   "cell_type": "code",
   "execution_count": 8,
   "id": "dbcb1581-cd54-4223-b46b-cc9da8cb9d88",
   "metadata": {},
   "outputs": [
    {
     "data": {
      "text/plain": [
       "array([0.5, 0.5])"
      ]
     },
     "execution_count": 8,
     "metadata": {},
     "output_type": "execute_result"
    }
   ],
   "source": [
    "def net(X,w1=W1,w2=W2,b1=B1,b2=B2): return sigmoidVect(w2@sigmoidVect(w1@X+b1)+b2)\n",
    "net(np.array([1,2,3,4]))"
   ]
  },
  {
   "cell_type": "markdown",
   "id": "79aa9d58-2c0e-40c9-a566-fc007462ca80",
   "metadata": {},
   "source": [
    "## Beispiel: Kantendetektor"
   ]
  },
  {
   "cell_type": "markdown",
   "id": "49006fd1",
   "metadata": {},
   "source": [
    "Die Eingaben des Netzes sind Vektoren aus dem $R^4$, die die vier Pixel eines 2x2-Bildes darstellen sollen. Die Ausgabeneuronen sollen hohe Werte bei vertikalen beziehungsweise horizontalen Strukturen annehmen."
   ]
  },
  {
   "cell_type": "code",
   "execution_count": 17,
   "id": "247c73fc-dff7-4f5c-8545-c8944af41226",
   "metadata": {},
   "outputs": [],
   "source": [
    "trainingdata= [\n",
    "    [[1,0,1,0],[1,0]], [[0,1,0,1],[1,0]], \n",
    "    [[1,1,0,0],[0,1]], [[0,0,1,1],[0,1]], \n",
    "    [[1,1,1,1],[0.5,0.5]],[[0,0,0,0],[0.5,0.5]], \n",
    "    [[0,1,0,0],[0.5,0.5]], [[1,0,0,0],[0.5,0.5]],  \n",
    "    [[0.9,0.1,1,0],[0.9,0.1]], [[0.1,1,0,0.9],[0.9,0.1]],  \n",
    "    [[1,0,1,1],[0.5,0.5]], [[0,1,1,1],[0.5,0.5]],  \n",
    "    [[1,1,0,1],[0.5,0.5]], [[1,1,1,0],[0.5,0.5]]  ]"
   ]
  },
  {
   "cell_type": "code",
   "execution_count": 10,
   "id": "3cd71103-f11f-4d75-b8cb-66b8c7ede42f",
   "metadata": {},
   "outputs": [],
   "source": [
    "# Das Folgende ist die zu minimierende Zielfunktion des Lernens: \n",
    "def F(x):\n",
    "    [w1,w2,b1,b2]=V2M(x)\n",
    "    return sum([distance(d[1],net(d[0],w1,w2,b1,b2)) for d in trainingdata])\n",
    "opt=minimize(F,M2V(W1,W2,B1,B2),method='BFGS')\n",
    "[W1opt,W2opt,B1opt,B2opt]=V2M(opt.x)\n",
    "# das Folgende ist das trainierte Netz\n",
    "def netopt(X): return net(X,W1opt,W2opt,B1opt,B2opt)"
   ]
  },
  {
   "cell_type": "code",
   "execution_count": 11,
   "id": "b2c850c6-e97c-4bfc-bc90-3cede8623150",
   "metadata": {},
   "outputs": [
    {
     "data": {
      "text/plain": [
       "array([1.29004597e-174, 1.00000000e+000])"
      ]
     },
     "execution_count": 11,
     "metadata": {},
     "output_type": "execute_result"
    }
   ],
   "source": [
    "netopt(np.array([1,1,0.1,0]))"
   ]
  },
  {
   "cell_type": "code",
   "execution_count": 12,
   "id": "398e0559-247f-4d78-ae6c-9b63296512a5",
   "metadata": {},
   "outputs": [
    {
     "data": {
      "text/plain": [
       "array([0.63049359, 0.37050827])"
      ]
     },
     "execution_count": 12,
     "metadata": {},
     "output_type": "execute_result"
    }
   ],
   "source": [
    "netopt(np.array([1,0,0.9,0]))"
   ]
  },
  {
   "cell_type": "code",
   "execution_count": 13,
   "id": "2ac56346-382f-4342-9350-d97e5201f8bf",
   "metadata": {},
   "outputs": [
    {
     "data": {
      "text/plain": [
       "array([0.63049359, 0.37050827])"
      ]
     },
     "execution_count": 13,
     "metadata": {},
     "output_type": "execute_result"
    }
   ],
   "source": [
    "netopt(np.array([1,1,1,1]))"
   ]
  },
  {
   "cell_type": "code",
   "execution_count": 14,
   "id": "796fb37d",
   "metadata": {},
   "outputs": [
    {
     "data": {
      "text/plain": [
       "array([1.29004597e-174, 1.00000000e+000])"
      ]
     },
     "execution_count": 14,
     "metadata": {},
     "output_type": "execute_result"
    }
   ],
   "source": [
    "netopt(np.array([1,1,0.01,0]))"
   ]
  },
  {
   "cell_type": "markdown",
   "id": "fcbdbb4e-c8d1-4cfb-8e77-242b930f76fd",
   "metadata": {},
   "source": [
    "## Arbeitsaufträge:\n",
    "1) Verändern Sie die Trainingsdaten so, dass das Netz lernt, diagonale Linien zu erkennen.\n",
    "2) Verändern Sie die Netzstruktur, so dass es vier Ausgabe-Neuronen gibt, je eine soll signalisieren, dass die Struktur überwiegend horizontal, vertikal, diagonal fallend oder diagonal steigend ist. Erhöhen Sie dazu auch die Zahl der Neuronen in der mittleren Schicht auf 5. Stellen Sie passende Trainingsdaten dafür zusammen.\n"
   ]
  }
 ],
 "metadata": {
  "kernelspec": {
   "display_name": "Python 3 (ipykernel)",
   "language": "python",
   "name": "python3"
  },
  "language_info": {
   "codemirror_mode": {
    "name": "ipython",
    "version": 3
   },
   "file_extension": ".py",
   "mimetype": "text/x-python",
   "name": "python",
   "nbconvert_exporter": "python",
   "pygments_lexer": "ipython3",
   "version": "3.11.5"
  }
 },
 "nbformat": 4,
 "nbformat_minor": 5
}
