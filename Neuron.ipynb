{
 "cells": [
  {
   "cell_type": "markdown",
   "id": "41543a65-d09a-4098-a0c4-0d1a3aef49aa",
   "metadata": {},
   "source": [
    "# Ein simples Neuron"
   ]
  },
  {
   "cell_type": "code",
   "execution_count": 5,
   "id": "9a666682-b244-4548-81b2-c4918ee4470d",
   "metadata": {
    "tags": []
   },
   "outputs": [],
   "source": [
    "import numpy as np\n",
    "import matplotlib.pyplot as plt\n",
    "from scipy.optimize import minimize"
   ]
  },
  {
   "cell_type": "code",
   "execution_count": 6,
   "id": "0320ef6f-ba60-486d-8bd6-1b59a4257bc4",
   "metadata": {
    "tags": []
   },
   "outputs": [],
   "source": [
    "# Trainingsdaten (einfache lineare Trennung)\n",
    "X_train = np.array([[1, 1], [2, 2], [3, 3], [4, 4]])\n",
    "y_train = np.array([1, 1.1, 1, 1])\n",
    "\n",
    "# Testdaten (ähnlich zu den Trainingsdaten)\n",
    "X_test = np.array([[1, 1.2], [1.2, 1.2], [2.1, 1.1], [2, 1.8]])\n",
    "y_test = np.array([1.1, 1.2, 0.9, 1.03])"
   ]
  },
  {
   "cell_type": "code",
   "execution_count": 7,
   "id": "2b195bbc-c3ae-405e-9333-b431894cd440",
   "metadata": {
    "tags": []
   },
   "outputs": [
    {
     "name": "stdout",
     "output_type": "stream",
     "text": [
      "Optimale Gewichte: [2.70182265 2.30182265 1.29432963]\n",
      "Fehler auf Trainingsdaten: 3.3734273439031776e-06\n",
      "Fehler auf Testdaten: 0.06139036056182702\n"
     ]
    }
   ],
   "source": [
    "# Sigmoid Aktivierungsfunktion\n",
    "def sigmoid(x):\n",
    "    return 1 / (1 + np.exp(-x))\n",
    "\n",
    "# Neuron-Funktion\n",
    "def neuron(w, x):\n",
    "    w1, w2, b = w\n",
    "    z = w1 * x[0] + w2 * x[1] + b\n",
    "    return sigmoid(z)\n",
    "\n",
    "# Zielfunktion für die Minimierung\n",
    "def loss_function(w, X, y):\n",
    "    predictions = np.array([neuron(w, x) for x in X])\n",
    "    sum_of_squared_errors = np.sum( (predictions - y) ** 2)\n",
    "    return sum_of_squared_errors\n",
    "\n",
    "# Trainingsdaten (einfache lineare Trennung)\n",
    "X_train = np.array([[1, 1], [2, 2], [3, 3], [4, 4]])\n",
    "y_train = np.array([1, 1, 1, 1])\n",
    "\n",
    "# Testdaten (ähnlich zu den Trainingsdaten)\n",
    "X_test = np.array([[1, 1.2], [1.2, 1.2], [2.1, 1.1], [2, 1.8]])\n",
    "y_test = np.array([1.1, 1.2, 0.9, 1.03])\n",
    "\n",
    "# Initialwerte für w1, w2 und b\n",
    "initial_weights = np.array([1.5, 1.1, 0.1])\n",
    "\n",
    "# Minimiere die Zielfunktion, um optimale Gewichte zu finden\n",
    "result = minimize(loss_function, initial_weights, args=(X_train, y_train))\n",
    "optimal_weights = result.x\n",
    "\n",
    "print(\"Optimale Gewichte:\", optimal_weights)\n",
    "\n",
    "# Berechne den Fehler auf den Trainings- und Testdaten\n",
    "train_error = loss_function(optimal_weights, X_train, y_train)\n",
    "test_error = loss_function(optimal_weights, X_test, y_test)\n",
    "\n",
    "print(\"Fehler auf Trainingsdaten:\", train_error)\n",
    "print(\"Fehler auf Testdaten:\", test_error)\n"
   ]
  },
  {
   "cell_type": "code",
   "execution_count": 8,
   "id": "3e3b4009-5af6-4a95-bb82-b456845b1a8e",
   "metadata": {
    "tags": []
   },
   "outputs": [
    {
     "data": {
      "text/plain": [
       "4.780988151552832e-25"
      ]
     },
     "execution_count": 8,
     "metadata": {},
     "output_type": "execute_result"
    }
   ],
   "source": [
    "loss_function([2,23,3],X_train,y_train)"
   ]
  }
 ],
 "metadata": {
  "kernelspec": {
   "display_name": "Python 3 (ipykernel)",
   "language": "python",
   "name": "python3"
  },
  "language_info": {
   "codemirror_mode": {
    "name": "ipython",
    "version": 3
   },
   "file_extension": ".py",
   "mimetype": "text/x-python",
   "name": "python",
   "nbconvert_exporter": "python",
   "pygments_lexer": "ipython3",
   "version": "3.11.5"
  }
 },
 "nbformat": 4,
 "nbformat_minor": 5
}
