{
 "cells": [
  {
   "cell_type": "markdown",
   "id": "fad6522b-09ed-43de-8979-0c625c977ba3",
   "metadata": {},
   "source": [
    "# Prognose der Preise von Ferienhäusern"
   ]
  },
  {
   "cell_type": "code",
   "execution_count": 4,
   "id": "78518da4-e3fb-4c56-b3b7-edd939b03bd1",
   "metadata": {},
   "outputs": [],
   "source": [
    "vars=[\"#Personen\",\"#Zimmer\", \"Wfl\", \"Hund\", \"Sterne\",\"Meerblick\",\"Meerentf\", \"Preis\"];\n",
    "data=[[2, 1, 51, 1, 4, 1, 75, 730],\n",
    "[4, 1, 85, 0, 5, 0, 450, 779],\n",
    "[6, 3, 132, 0, 5, 0, 7300, 1039],\n",
    "[6, 3, 119, 0, 5, 0, 650, 737],\n",
    "[4, 1, 110, 1, 4, 1, 500, 777],\n",
    "[4, 2, 50, 0, 6, 0, 10, 879],\n",
    "[6, 3, 116, 0, 5, 1, 250, 1369],\n",
    "[5, 3, 130, 1, 4, 0, 5000, 694],\n",
    "[4, 2, 62, 0, 4, 0, 200, 899],\n",
    "[4, 2, 88, 0, 3, 0, 3100, 551],\n",
    "[2, 1, 39, 0, 4, 0, 50, 640],\n",
    "[4, 2, 80, 1, 4, 0, 3300, 765],\n",
    "[6, 3, 92, 0, 5, 0, 590, 1172],\n",
    "[4, 2, 89, 0, 4, 1, 300, 827],\n",
    "[4, 1, 57, 0, 4, 1, 100, 754],\n",
    "[4, 1, 57, 0, 5, 1, 10, 913],\n",
    "[4, 2, 70, 0, 4, 0, 200, 890],\n",
    "[4, 2, 40, 0, 5, 0, 200, 851],\n",
    "[4, 2, 54, 0, 4, 0, 1200, 599],\n",
    "[4, 2, 60, 0, 3, 1, 250, 471],\n",
    "[2, 1, 33, 0, 3, 0, 150, 576],\n",
    "[6, 3, 148, 1, 4, 0, 550, 864],\n",
    "[4, 2, 47, 0, 4, 0, 200, 1005],\n",
    "[4, 2, 55, 0, 4, 0, 450, 773],\n",
    "[4, 2, 40, 0, 4, 1, 100, 510],\n",
    "[8, 4, 175, 1, 4, 0, 8800, 590],\n",
    "[4, 2, 76, 0, 3, 0, 300, 694],\n",
    "[4, 2, 68, 0, 4, 0, 4500, 629],\n",
    "[6, 3, 180, 1, 4, 1, 400, 892],\n",
    "[5, 2, 55, 0, 4, 1, 250, 475],\n",
    "[2, 1, 30, 0, 3, 0, 150, 586],\n",
    "[4, 2, 60, 0, 3, 1, 2000, 687],\n",
    "[8, 4, 180, 0, 5, 1, 900, 1633],\n",
    "[4, 2, 52, 0, 4, 0, 450, 635],\n",
    "[6, 3, 100, 0, 4, 1, 50, 987],\n",
    "[6, 3, 148, 0, 4, 0, 300, 1211],\n",
    "[4, 2, 63, 0, 4, 0, 200, 645],\n",
    "[5, 2, 63, 0, 4, 1, 200, 569],\n",
    "[2, 1, 40, 1, 3, 1, 650, 310],\n",
    "[4, 2, 84, 0, 4, 1, 70, 1262],\n",
    "[6, 2, 54, 0, 5, 1, 350, 764],\n",
    "[6, 3, 98, 1, 4, 0, 600, 1160],\n",
    "[4, 2, 36, 0, 3, 0, 1000, 416],\n",
    "[8, 4, 115, 0, 5, 1, 500, 2393],\n",
    "[6, 4, 134, 0, 3, 1, 200, 1247],\n",
    "[4, 2, 50, 0, 3, 1, 800, 544],\n",
    "[4, 3, 64, 0, 3, 1, 250, 860],\n",
    "[7, 4, 138, 0, 4, 1, 250, 1277],\n",
    "[2, 1, 74, 0, 3, 1, 650, 512],\n",
    "[4, 2, 51, 0, 3, 0, 150, 783],\n",
    "[4, 2, 55, 0, 3, 1, 1000, 471],\n",
    "[8, 4, 240, 0, 5, 0, 250, 2122],\n",
    "[6, 3, 90, 1, 4, 0, 200, 779],\n",
    "[4, 2, 50, 1, 3, 1, 250, 416],\n",
    "[4, 2, 50, 0, 4, 1, 100, 715],\n",
    "[8, 4, 149, 0, 4, 1, 75, 1372],\n",
    "[6, 3, 115, 0, 4, 0, 7500, 762],\n",
    "[6, 3, 95, 0, 3, 1, 150, 672],\n",
    "[6, 3, 56, 0, 4, 0, 300, 881],\n",
    "[4, 1, 56, 0, 3, 1, 10, 1088],\n",
    "[7, 3, 80, 0, 5, 0, 450, 915],\n",
    "[6, 3, 132, 0, 3, 0, 2500, 641],\n",
    "[6, 3, 77, 0, 4, 0, 450, 759],\n",
    "[6, 3, 70, 0, 3, 0, 800, 781],\n",
    "[8, 4, 116, 0, 5, 1, 300, 1260],\n",
    "[8, 4, 147, 0, 4, 0, 300, 949],\n",
    "[4, 1, 50, 0, 3, 0, 2900, 507],\n",
    "[6, 3, 93, 1, 4, 1, 50, 1099],\n",
    "[6, 3, 89, 0, 4, 0, 400, 765],\n",
    "[6, 3, 118, 0, 3, 0, 6000, 433],\n",
    "[6, 3, 121, 0, 4, 1, 200, 680],\n",
    "[4, 2, 105, 0, 3, 0, 1500, 777],\n",
    "[10, 4, 160, 0, 5, 0, 5500, 1067],\n",
    "[4, 1, 46, 0, 3, 0, 1000, 496],\n",
    "[6, 2, 50, 1, 3, 0, 1400, 685],\n",
    "[8, 4, 117, 0, 4, 1, 200, 1067],\n",
    "[4, 1, 24, 1, 3, 1, 200, 352],\n",
    "[8, 3, 92, 0, 5, 0, 1400, 1028],\n",
    "[7, 3, 110, 1, 4, 0, 200, 1767],\n",
    "[8, 3, 100, 0, 4, 1, 600, 1017],\n",
    "[6, 2, 35, 1, 4, 0, 400, 651],\n",
    "[6, 3, 70, 1, 3, 0, 300, 696],\n",
    "[5, 2, 52, 0, 4, 1, 400, 574]];\n",
    "n=len(data);"
   ]
  },
  {
   "cell_type": "markdown",
   "id": "d231dbf0-ae25-48df-9880-6163eee4eb03",
   "metadata": {},
   "source": [
    "g ist die Prognosefunktion, die aus den Modellparametern und den Hauseigenschaften den Preis vorhersagt.\n",
    "Für eine Liste d ist d[-1] das letzte Element und d[:-1] ist die Liste ohne das letzte Element"
   ]
  },
  {
   "cell_type": "code",
   "execution_count": 9,
   "id": "6b52a4af-b634-479b-80f5-4302e19dfec8",
   "metadata": {},
   "outputs": [
    {
     "name": "stdout",
     "output_type": "stream",
     "text": [
      "['Koeffizient von ', '#Personen', 'ist', 10.200553120370135]\n",
      "['Koeffizient von ', '#Zimmer', 'ist', 108.40966612741181]\n",
      "['Koeffizient von ', 'Wfl', 'ist', 2.658581940988622]\n",
      "['Koeffizient von ', 'Hund', 'ist', -40.99838445499613]\n",
      "['Koeffizient von ', 'Sterne', 'ist', 127.88153332595081]\n",
      "['Koeffizient von ', 'Meerblick', 'ist', 38.99592153311367]\n",
      "['Koeffizient von ', 'Meerentf', 'ist', 1323.1373295109915]\n",
      "['Achsenabschnitt ist', 92.84964833588474]\n",
      "['RMSE', 239.66258449889824]\n"
     ]
    }
   ],
   "source": [
    "import numpy as np\n",
    "import math\n",
    "from scipy.optimize import minimize\n",
    "def g(p,x):\n",
    "    [cPers,cZimmer,cWfl,cHund,cSterne,cMBlick,cMeer,c0]=p\n",
    "    [Pers,Zimmer,Wfl,Hund,Sterne,MeerBlick,Meer]=x\n",
    "    return cPers*Pers+cZimmer*Zimmer+cWfl*Wfl+cHund*Hund+cSterne*(Sterne-3)+cMBlick*MeerBlick+cMeer/math.sqrt(Meer)+c0\n",
    "def F(p):\n",
    "    return sum([(d[-1]-g(p,d[:-1]))**2 for d in data])\n",
    "opt=minimize(F, np.array([100,10,10,10,10,10,10,0]))\n",
    "for i in range(len(opt.x)-1):\n",
    "    print([\"Koeffizient von \",vars[i],\"ist\", opt.x[i]])\n",
    "print([\"Achsenabschnitt ist\", opt.x[len(opt.x)-1]])\n",
    "print([\"Mittl. quadratischer Fehler RMSE =\",math.sqrt(opt.fun/n)])\n",
    "    "
   ]
  },
  {
   "cell_type": "markdown",
   "id": "58dda685-6ea0-4062-8fcd-ede724f2756a",
   "metadata": {},
   "source": [
    "Das folgende prognostiziert den Preis eines Hauses mit 1 Zimmer für 5 Personen ohne Hund, mit 3 Sternen, Meerblick und 100m Entfernung zum Meer"
   ]
  },
  {
   "cell_type": "code",
   "execution_count": 10,
   "id": "d8804130-51d4-48c5-82ea-7b2659ca32d2",
   "metadata": {},
   "outputs": [
    {
     "data": {
      "text/plain": [
       "636.2582898284497"
      ]
     },
     "execution_count": 10,
     "metadata": {},
     "output_type": "execute_result"
    }
   ],
   "source": [
    "g(opt.x,[5,1,80,0,3,1,100])"
   ]
  }
 ],
 "metadata": {
  "kernelspec": {
   "display_name": "Python 3 (ipykernel)",
   "language": "python",
   "name": "python3"
  },
  "language_info": {
   "codemirror_mode": {
    "name": "ipython",
    "version": 3
   },
   "file_extension": ".py",
   "mimetype": "text/x-python",
   "name": "python",
   "nbconvert_exporter": "python",
   "pygments_lexer": "ipython3",
   "version": "3.11.5"
  }
 },
 "nbformat": 4,
 "nbformat_minor": 5
}
